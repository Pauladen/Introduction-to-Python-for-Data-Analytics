{
 "cells": [
  {
   "cell_type": "markdown",
   "metadata": {},
   "source": [
    "## Question 1\n",
    "Using the property-tax-report.csv data set as used in WK6D2 class, perform various data visualization using\n",
    "* Bokeh\n",
    "* Geopanda\n",
    "* Seaborn\n",
    "* Plotly\n",
    "* Any other visualization library you come accross\n",
    "\n",
    "## Question 2\n",
    "Combining all the knowledge derived from the entire lesson, tell aa story using the property-tax-report.csv"
   ]
  }
 ],
 "metadata": {
  "language_info": {
   "name": "python"
  }
 },
 "nbformat": 4,
 "nbformat_minor": 2
}
